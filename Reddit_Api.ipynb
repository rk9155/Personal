{
 "cells": [
  {
   "cell_type": "code",
   "execution_count": 2,
   "metadata": {},
   "outputs": [],
   "source": [
    "# client_id = UeM3UJMjK2uBdQ\n",
    "# secrete_id = oC9Hqu-TRPAv4F8mjDbmDXbZPeM"
   ]
  },
  {
   "cell_type": "code",
   "execution_count": 3,
   "metadata": {},
   "outputs": [],
   "source": [
    "import json\n",
    "import requests\n",
    "\n",
    "# Documentation --> https://github.com/reddit-archive/reddit/wiki/OAuth2"
   ]
  },
  {
   "cell_type": "code",
   "execution_count": 4,
   "metadata": {},
   "outputs": [
    {
     "name": "stdout",
     "output_type": "stream",
     "text": [
      "https://www.reddit.com/api/v1/authorize?client_id=UeM3UJMjK2uBdQ&response_type=code&state=random_123&redirect_uri=https%3A%2F%2Fwww.google.com%2F&scope=read\n"
     ]
    }
   ],
   "source": [
    "# https://www.reddit.com/api/v1/authorize?client_id=CLIENT_ID&response_type=TYPE&\n",
    "#     state=RANDOM_STRING&redirect_uri=URI&duration=DURATION&scope=SCOPE_STRING\n",
    "\n",
    "data = { 'client_id':'UeM3UJMjK2uBdQ','response_type':'code','state':'random_123',\n",
    "        'redirect_uri':'https://www.google.com/','scope':'read'}\n",
    "res = requests.get('https://www.reddit.com/api/v1/authorize',params=data)\n",
    "print(res.url)\n",
    "\n",
    "# https://www.google.com/?state=random_123&code=1bA7vZV8uHjUfjTI81A1daUtN6s"
   ]
  },
  {
   "cell_type": "code",
   "execution_count": 5,
   "metadata": {},
   "outputs": [],
   "source": [
    "# code=DADfYvjgBORIAJyg15A9j7zX1q4"
   ]
  },
  {
   "cell_type": "code",
   "execution_count": 6,
   "metadata": {},
   "outputs": [],
   "source": [
    "# Retrieving the access token\n",
    "# If you didn't get an error and the state value checks out, \n",
    "# you may then make a POST request with code to the following URL to retrieve your access token:\n",
    "\n",
    "# https://www.reddit.com/api/v1/access_token"
   ]
  },
  {
   "cell_type": "code",
   "execution_count": 16,
   "metadata": {},
   "outputs": [
    {
     "name": "stdout",
     "output_type": "stream",
     "text": [
      "{\"access_token\": \"405682597306-Y19yjUS0CxaZBSp17Y54Zfaj7TI\", \"token_type\": \"bearer\", \"expires_in\": 3600, \"scope\": \"read\"}\n"
     ]
    }
   ],
   "source": [
    "data2 = {'grant_type':'authorization_code','code':'DADfYvjgBORIAJyg15A9j7zX1q4',\n",
    "         'redirect_uri':'https://www.google.com/'}\n",
    "r = requests.post('https://www.reddit.com/api/v1/access_token',data=data2,\n",
    "                    auth = ('UeM3UJMjK2uBdQ','oC9Hqu-TRPAv4F8mjDbmDXbZPeM'),\n",
    "                    headers = {'User-Agent':'Rakesh'})\n",
    "print(r.text)"
   ]
  },
  {
   "cell_type": "code",
   "execution_count": null,
   "metadata": {},
   "outputs": [],
   "source": []
  },
  {
   "cell_type": "code",
   "execution_count": null,
   "metadata": {},
   "outputs": [],
   "source": []
  },
  {
   "cell_type": "code",
   "execution_count": null,
   "metadata": {},
   "outputs": [],
   "source": []
  },
  {
   "cell_type": "code",
   "execution_count": null,
   "metadata": {},
   "outputs": [],
   "source": []
  },
  {
   "cell_type": "code",
   "execution_count": null,
   "metadata": {},
   "outputs": [],
   "source": []
  },
  {
   "cell_type": "code",
   "execution_count": null,
   "metadata": {},
   "outputs": [],
   "source": []
  }
 ],
 "metadata": {
  "kernelspec": {
   "display_name": "Python 3",
   "language": "python",
   "name": "python3"
  },
  "language_info": {
   "codemirror_mode": {
    "name": "ipython",
    "version": 3
   },
   "file_extension": ".py",
   "mimetype": "text/x-python",
   "name": "python",
   "nbconvert_exporter": "python",
   "pygments_lexer": "ipython3",
   "version": "3.7.6"
  }
 },
 "nbformat": 4,
 "nbformat_minor": 4
}
