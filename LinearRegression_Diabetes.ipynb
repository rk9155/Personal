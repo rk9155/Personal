{
 "cells": [
  {
   "cell_type": "code",
   "execution_count": 1,
   "metadata": {},
   "outputs": [],
   "source": [
    "import numpy as np\n",
    "from sklearn.linear_model import LinearRegression"
   ]
  },
  {
   "cell_type": "code",
   "execution_count": 2,
   "metadata": {},
   "outputs": [
    {
     "name": "stdout",
     "output_type": "stream",
     "text": [
      "(111, 10)\n",
      "(331, 11)\n"
     ]
    }
   ],
   "source": [
    "train_data=np.loadtxt('0000000000002329_training_diabetes_x_y_train.csv', delimiter=',')\n",
    "test_data=np.loadtxt('0000000000002329_test_diabetes_x_test.csv', delimiter=',')\n",
    "print(test_data.shape)\n",
    "print(train_data.shape)"
   ]
  },
  {
   "cell_type": "code",
   "execution_count": 3,
   "metadata": {},
   "outputs": [
    {
     "name": "stdout",
     "output_type": "stream",
     "text": [
      "(111, 10)\n",
      "(331, 1)\n",
      "(331, 10)\n"
     ]
    }
   ],
   "source": [
    "X_test=test_data\n",
    "X_train=train_data[:, :10]\n",
    "Y_train=train_data[:, 10:]\n",
    "print(X_test.shape)\n",
    "print(Y_train.shape)\n",
    "print(X_train.shape)"
   ]
  },
  {
   "cell_type": "code",
   "execution_count": 4,
   "metadata": {},
   "outputs": [],
   "source": [
    "model=LinearRegression()\n",
    "model.fit(X_train, Y_train)\n",
    "ans=model.predict(X_test)\n",
    "np.savetxt('predicted_Diabetes_data.csv', ans, delimiter=',')"
   ]
  },
  {
   "cell_type": "code",
   "execution_count": null,
   "metadata": {},
   "outputs": [],
   "source": []
  }
 ],
 "metadata": {
  "kernelspec": {
   "display_name": "Python 3",
   "language": "python",
   "name": "python3"
  },
  "language_info": {
   "codemirror_mode": {
    "name": "ipython",
    "version": 3
   },
   "file_extension": ".py",
   "mimetype": "text/x-python",
   "name": "python",
   "nbconvert_exporter": "python",
   "pygments_lexer": "ipython3",
   "version": "3.7.6"
  }
 },
 "nbformat": 4,
 "nbformat_minor": 4
}
