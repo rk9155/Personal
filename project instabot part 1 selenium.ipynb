{
 "cells": [
  {
   "cell_type": "markdown",
   "metadata": {},
   "source": []
  },
  {
   "cell_type": "markdown",
   "metadata": {},
   "source": [
    "<h2>Importing Important Libraries:</h2>"
   ]
  },
  {
   "cell_type": "code",
   "execution_count": 52,
   "metadata": {},
   "outputs": [],
   "source": [
    "from selenium import webdriver\n",
    "from selenium.webdriver.common.keys import Keys\n",
    "import time\n",
    "from selenium.common.exceptions import NoSuchElementException\n",
    "from selenium.common.exceptions import StaleElementReferenceException\n",
    "from selenium.common.exceptions import TimeoutException\n",
    "from selenium.webdriver.support.ui import WebDriverWait\n",
    "from selenium.webdriver.support import expected_conditions as EC\n",
    "from selenium.webdriver.common.by import By\n",
    "from selenium.webdriver.support.select import Select"
   ]
  },
  {
   "cell_type": "markdown",
   "metadata": {},
   "source": [
    "<h2>Starting Chrome WebDriver:</h2>"
   ]
  },
  {
   "cell_type": "code",
   "execution_count": 53,
   "metadata": {},
   "outputs": [
    {
     "data": {
      "text/plain": [
       "<selenium.webdriver.chrome.webdriver.WebDriver (session=\"b2e34dad09ee39d7cb3e215c454776d8\")>"
      ]
     },
     "execution_count": 53,
     "metadata": {},
     "output_type": "execute_result"
    }
   ],
   "source": [
    "driver=webdriver.Chrome(executable_path = '/Users/rakeshcq/Downloads/chromedriver')\n",
    "driver\n",
    "#set the location where the chrome driver is located."
   ]
  },
  {
   "cell_type": "markdown",
   "metadata": {},
   "source": [
    "<h2>Visiting Instagram</h2>\n",
    "<br>Visiting instagram and maximising the window"
   ]
  },
  {
   "cell_type": "code",
   "execution_count": 54,
   "metadata": {},
   "outputs": [],
   "source": [
    "driver.get('https://www.instagram.com/')\n",
    "driver.maximize_window()\n",
    "# waiter=WebDriverWait(driver, 10).until(EC.presence_of_element_located((By.LINK_TEXT, \"Log in\")))"
   ]
  },
  {
   "cell_type": "markdown",
   "metadata": {},
   "source": [
    "<h2>Visiting logging portal of Instagram:</h2>"
   ]
  },
  {
   "cell_type": "code",
   "execution_count": 55,
   "metadata": {},
   "outputs": [],
   "source": [
    "# driver.find_element_by_link_text('Log in').click()\n",
    "waiter=WebDriverWait(driver, 10).until(EC.presence_of_element_located((By.NAME, \"username\")))\n",
    "time.sleep(2)"
   ]
  },
  {
   "cell_type": "markdown",
   "metadata": {},
   "source": [
    "<h2>Input Credentials:</h2>\n",
    "<br>Make sure to input appropriate username and password."
   ]
  },
  {
   "cell_type": "code",
   "execution_count": 56,
   "metadata": {},
   "outputs": [],
   "source": [
    "username=\"rk915582@gmail.com\"\n",
    "password=\"raka9155\"\n",
    "waiter=WebDriverWait(driver,10).until(EC.presence_of_element_located((By.NAME,\"username\")))\n",
    "username_field=driver.find_element_by_name('username')\n",
    "password_field=driver.find_element_by_name('password')\n",
    "username_field.send_keys(username)\n",
    "password_field.send_keys(password)\n",
    "Login_btn=driver.find_element_by_class_name('L3NKy')\n",
    "Login_btn.click()"
   ]
  },
  {
   "cell_type": "markdown",
   "metadata": {},
   "source": [
    "# Passing Save Login Info check"
   ]
  },
  {
   "cell_type": "code",
   "execution_count": 57,
   "metadata": {},
   "outputs": [],
   "source": [
    "waiter=WebDriverWait(driver,10).until(EC.presence_of_element_located((By.CLASS_NAME,\"coreSpriteKeyhole\")))\n",
    "Now_now_btn=driver.find_element_by_xpath(\"//button[contains(@class,'sqdOP')]\").click()"
   ]
  },
  {
   "cell_type": "markdown",
   "metadata": {},
   "source": [
    "<h2>Supressing \"Turn On Notifications\" Window:</h2>"
   ]
  },
  {
   "cell_type": "code",
   "execution_count": 58,
   "metadata": {},
   "outputs": [],
   "source": [
    "waiter=WebDriverWait(driver,5).until(EC.visibility_of_any_elements_located((By.CLASS_NAME,\"HoLwm\")))\n",
    "driver.find_element_by_class_name('HoLwm').click()\n",
    "waiter=WebDriverWait(driver, 10).until(EC.presence_of_element_located((By.CLASS_NAME, \"TqC_a\")))"
   ]
  },
  {
   "cell_type": "markdown",
   "metadata": {},
   "source": [
    "<h2>Enabling the Search Box to recieve input:</h2>\n",
    "<br>By clicking on it."
   ]
  },
  {
   "cell_type": "code",
   "execution_count": 59,
   "metadata": {},
   "outputs": [],
   "source": [
    "search_box=driver.find_element_by_class_name('TqC_a').click()\n",
    "waiter=WebDriverWait(driver, 10).until(EC.presence_of_element_located((By.CLASS_NAME, \"XTCLo\")))"
   ]
  },
  {
   "cell_type": "markdown",
   "metadata": {},
   "source": [
    "<h2>Input \"Food\" in the search box:</h2>"
   ]
  },
  {
   "cell_type": "code",
   "execution_count": 60,
   "metadata": {},
   "outputs": [],
   "source": [
    "search_box=driver.find_element_by_class_name('XTCLo')\n",
    "search_box.send_keys('food')\n",
    "waiter=WebDriverWait(driver, 10).until(EC.presence_of_element_located((By.XPATH, '//a[@class=\"yCE8d  \"]/div/div[2]/div/span')))"
   ]
  },
  {
   "cell_type": "markdown",
   "metadata": {},
   "source": [
    "<h4>Printing all the names of the Instagram Handles that are displayed in list after typing “food”</h4>"
   ]
  },
  {
   "cell_type": "code",
   "execution_count": 61,
   "metadata": {
    "scrolled": true
   },
   "outputs": [
    {
     "name": "stdout",
     "output_type": "stream",
     "text": [
      "dilsefoodie\n",
      "foodcravingrecipe\n",
      "food___stories____\n",
      "yourfoodlab\n",
      "buzzfeedfood\n",
      "concentrate_on_food\n",
      "food\n",
      "delhifoodguide\n",
      "foodinsider\n",
      "miss_aparna1908\n",
      "yumdmv\n",
      "hmm_nikhil\n",
      "hungry_punekars\n",
      "eatdelhifood\n",
      "foodgastic_amdavadi\n",
      "street_food_chandigarh\n",
      "delhifoodwalks\n",
      "food_lunatic\n",
      "ndtv_food\n",
      "foodie_incarnate\n",
      "dmvfoodgroup\n",
      "foodiekaurexpeditions\n",
      "food_technology_2020\n",
      "food_maple05\n",
      "thisisdelhi\n",
      "ruchika_asatkar\n",
      "funfoods_bydroetker\n",
      "jaipurfood\n",
      "mumbaifoodie\n",
      "neha_goud\n",
      "foodrush.recipe\n",
      "foodmaniacindia\n",
      "eatguide\n",
      "foodreuels\n",
      "the_foodthesis\n",
      "_foodpaths_\n",
      "food_gambler\n",
      "_moody_foodiee\n",
      "hyderabad.food.diaries\n",
      "indianfoodtrail\n",
      "foodiethesam\n",
      "food_junc\n",
      "foodhallindia\n",
      "foodie_woman\n",
      "delhifoodie\n",
      "Food Point\n",
      "alwaysemptystomach\n",
      "food_belly11\n",
      "fooddiariesss\n",
      "the_one_with_foodie\n",
      "cremicafoods\n",
      "thefoodranger\n",
      "_foodiesqueen_617\n"
     ]
    }
   ],
   "source": [
    "for i in driver.find_elements_by_xpath('//a[@class=\"yCE8d  \"]/div/div[2]/div/span'):\n",
    "    print(i.get_attribute('innerHTML'))\n",
    "waiter=WebDriverWait(driver, 10).until(EC.presence_of_element_located((By.CLASS_NAME, \"coreSpriteSearchClear\")))"
   ]
  },
  {
   "cell_type": "markdown",
   "metadata": {},
   "source": [
    "<h2>Clearing Input:</h2>"
   ]
  },
  {
   "cell_type": "code",
   "execution_count": 62,
   "metadata": {},
   "outputs": [],
   "source": [
    "driver.find_element_by_class_name('coreSpriteSearchClear').click()\n",
    "waiter=WebDriverWait(driver, 10).until(EC.presence_of_element_located((By.CLASS_NAME, \"TqC_a\")))"
   ]
  },
  {
   "cell_type": "markdown",
   "metadata": {},
   "source": [
    "<h2>Enabling Search box:</h2>"
   ]
  },
  {
   "cell_type": "code",
   "execution_count": 63,
   "metadata": {},
   "outputs": [],
   "source": [
    "driver.find_element_by_class_name('TqC_a').click()\n",
    "waiter=WebDriverWait(driver, 10).until(EC.presence_of_element_located((By.CLASS_NAME, \"XTCLo\")))"
   ]
  },
  {
   "cell_type": "markdown",
   "metadata": {},
   "source": [
    "<h2>Searching and Opening profile of \"So Delhi\" :</h2>"
   ]
  },
  {
   "cell_type": "code",
   "execution_count": 64,
   "metadata": {},
   "outputs": [],
   "source": [
    "search_box=driver.find_element_by_class_name('XTCLo')\n",
    "search_box.send_keys('So Delhi')\n",
    "waiter=WebDriverWait(driver, 10).until(EC.presence_of_element_located((By.CLASS_NAME, \"yCE8d\")))"
   ]
  },
  {
   "cell_type": "code",
   "execution_count": 65,
   "metadata": {},
   "outputs": [],
   "source": [
    "driver.find_element_by_class_name('yCE8d').click()\n",
    "waiter=WebDriverWait(driver, 10).until(EC.presence_of_element_located((By.CLASS_NAME, \"_6VtSN\")))"
   ]
  },
  {
   "cell_type": "markdown",
   "metadata": {},
   "source": [
    "<h2>Following So Delhi :</h2>"
   ]
  },
  {
   "cell_type": "code",
   "execution_count": 66,
   "metadata": {},
   "outputs": [],
   "source": [
    "if driver.find_element_by_class_name('_6VtSN').get_attribute('innerHTML')=='Following':\n",
    "    print('You are already following the page!')\n",
    "else:\n",
    "    driver.find_element_by_xpath('//button[contains(@class, \"_6VtSN\")]').click()\n",
    "waiter=WebDriverWait(driver, 10).until(EC.presence_of_element_located((By.CLASS_NAME, \"_6VtSN\")))\n",
    "time.sleep(3)"
   ]
  },
  {
   "cell_type": "markdown",
   "metadata": {},
   "source": [
    "<h2>Unfollowing So Delhi :</h2>"
   ]
  },
  {
   "cell_type": "code",
   "execution_count": 67,
   "metadata": {},
   "outputs": [
    {
     "name": "stdout",
     "output_type": "stream",
     "text": [
      "You have already unfollowed the page\n"
     ]
    }
   ],
   "source": [
    "if driver.find_element_by_class_name('_6VtSN').get_attribute('innerHTML')=='Following':\n",
    "    driver.find_element_by_class_name('_6VtSN').click()\n",
    "    driver.find_element_by_xpath('//button[contains(@class, \"-Cab_\")]').click()\n",
    "else:\n",
    "    print('You have already unfollowed the page')"
   ]
  },
  {
   "cell_type": "markdown",
   "metadata": {},
   "source": [
    "<h2>Enabling the search box to visit \"dilsefoodie\":</h2>"
   ]
  },
  {
   "cell_type": "code",
   "execution_count": 68,
   "metadata": {},
   "outputs": [],
   "source": [
    "driver.find_element_by_class_name('TqC_a').click()\n",
    "waiter=WebDriverWait(driver, 10).until(EC.presence_of_element_located((By.CLASS_NAME, \"XTCLo\")))"
   ]
  },
  {
   "cell_type": "markdown",
   "metadata": {},
   "source": [
    "<h2>Opening Profile of \"dilsefoodie\" :</h2>"
   ]
  },
  {
   "cell_type": "code",
   "execution_count": 69,
   "metadata": {},
   "outputs": [],
   "source": [
    "search_box=driver.find_element_by_class_name('XTCLo')\n",
    "search_box.send_keys('dilsefoodie')\n",
    "waiter=WebDriverWait(driver, 10).until(EC.presence_of_element_located((By.CLASS_NAME, \"yCE8d\")))"
   ]
  },
  {
   "cell_type": "code",
   "execution_count": 70,
   "metadata": {},
   "outputs": [],
   "source": [
    "driver.find_element_by_class_name('yCE8d').click()\n",
    "time.sleep(3)"
   ]
  },
  {
   "cell_type": "markdown",
   "metadata": {},
   "source": [
    "<h2>Scrolling manually to load elements:</h2>"
   ]
  },
  {
   "cell_type": "code",
   "execution_count": 71,
   "metadata": {},
   "outputs": [],
   "source": [
    "driver.execute_script('window.scrollBy(0, 3000);')\n",
    "time.sleep(2.5)\n",
    "driver.execute_script('window.scrollBy(0, 3000);')\n",
    "time.sleep(2.5)\n",
    "waiter=WebDriverWait(driver, 10).until(EC.presence_of_element_located((By.XPATH, '//div[contains(@class, \"Nnq7C\")]/div/a/div[1]')))"
   ]
  },
  {
   "cell_type": "markdown",
   "metadata": {},
   "source": [
    "<h2>Liking 30 posts of dilsefoodie:</h2>"
   ]
  },
  {
   "cell_type": "code",
   "execution_count": 72,
   "metadata": {},
   "outputs": [],
   "source": [
    "#liking 30 posts\n",
    "# count=0\n",
    "# for i in driver.find_elements_by_xpath('//div[contains(@class, \"Nnq7C\")]/div/a/div[1]'):\n",
    "#     i.click()\n",
    "#     trier=WebDriverWait(driver, 10).until(EC.presence_of_element_located((By.XPATH,\n",
    "#                                                                     \"//button[contains(@class, 'dCJp8')]\")))\n",
    "    \n",
    "#     try:\n",
    "#         WebDriverWait(driver, 5).until(EC.presence_of_element_located((By.XPATH, '//section[contains(@class, \"ltpMr\")]')))\n",
    "#         time.sleep(0.8)\n",
    "#         driver.find_element_by_xpath('//button[contains(@class, \"dCJp8\")]/span[contains(@class, \"glyphsSpriteHeart__outline__24__grey_9\")]').click()\n",
    "#     except NoSuchElementException:\n",
    "#         print('Already Liked!')\n",
    "#     driver.back()\n",
    "#     count+=1\n",
    "#     if count==30:\n",
    "#         print('Liked All(30)!')\n",
    "#         break\n",
    "# waiter=WebDriverWait(driver, 10).until(EC.presence_of_element_located((By.XPATH, '//div[contains(@class, \"Nnq7C\")]/div/a/div[1]')))\n",
    "# time.sleep(2)\n",
    "# driver.execute_script('window.scrollTo(0, 0)')"
   ]
  },
  {
   "cell_type": "markdown",
   "metadata": {},
   "source": [
    "<h2>Unliking 30 posts of dilsefoodie:</h2>"
   ]
  },
  {
   "cell_type": "code",
   "execution_count": 73,
   "metadata": {},
   "outputs": [],
   "source": [
    "#unliking 30 posts\n",
    "# count=0\n",
    "# for i in driver.find_elements_by_xpath('//div[contains(@class, \"Nnq7C\")]/div/a/div[1]'):\n",
    "#     i.click()\n",
    "#     trier=WebDriverWait(driver, 10).until(EC.presence_of_element_located((By.XPATH,\n",
    "#                                                                     \"//button[contains(@class, 'dCJp8')]\")))\n",
    "    \n",
    "#     try:\n",
    "#         WebDriverWait(driver, 5).until(EC.presence_of_element_located((By.XPATH, '//section[contains(@class, \"ltpMr\")]')))\n",
    "#         driver.find_element_by_xpath('//button[contains(@class, \"dCJp8\")]/span[contains(@class, \"glyphsSpriteHeart__filled__24__red_5\")]').click()\n",
    "#     except NoSuchElementException:\n",
    "#         print('Already UnLiked!')\n",
    "#     driver.back()\n",
    "#     count+=1\n",
    "#     time.sleep(0.3)\n",
    "#     if count==30:\n",
    "#         print('UnLiked All(30)!')\n",
    "#         break\n",
    "# time.sleep(2)"
   ]
  },
  {
   "cell_type": "markdown",
   "metadata": {},
   "source": [
    "<h2>Visiting So Delhi:</h2>"
   ]
  },
  {
   "cell_type": "code",
   "execution_count": 74,
   "metadata": {},
   "outputs": [],
   "source": [
    "driver.find_element_by_class_name('TqC_a').click()\n",
    "waiter=WebDriverWait(driver, 10).until(EC.presence_of_element_located((By.CLASS_NAME, \"XTCLo\")))"
   ]
  },
  {
   "cell_type": "code",
   "execution_count": 75,
   "metadata": {},
   "outputs": [],
   "source": [
    "search_box=driver.find_element_by_class_name('XTCLo')\n",
    "search_box.send_keys('So Delhi')\n",
    "waiter=WebDriverWait(driver, 10).until(EC.presence_of_element_located((By.CLASS_NAME, \"yCE8d\")))"
   ]
  },
  {
   "cell_type": "code",
   "execution_count": 76,
   "metadata": {},
   "outputs": [],
   "source": [
    "driver.find_element_by_class_name('yCE8d').click()\n",
    "waiter=WebDriverWait(driver, 10).until(EC.presence_of_element_located((By.CLASS_NAME, \"_6VtSN\")))\n",
    "time.sleep(3)"
   ]
  },
  {
   "cell_type": "markdown",
   "metadata": {},
   "source": [
    "<h2>Extracting the usernames of the first 500 followers of 'sodelhi' :</h2>"
   ]
  },
  {
   "cell_type": "code",
   "execution_count": 77,
   "metadata": {},
   "outputs": [],
   "source": [
    "try:\n",
    "    driver.execute_script('window.scrollTo(0, 0)')\n",
    "    driver.find_element_by_xpath('//a[@class=\"-nal3 \"]/span[@class=\"g47SY \"]').click()\n",
    "except NoSuchElementException:\n",
    "    driver.find_element_by_xpath('//a[@class=\" _81NM2\"]/span[contains(@class, \"g47SY\")]').click()\n",
    "waiter=WebDriverWait(driver, 10).until(EC.presence_of_element_located((By.XPATH, '//a[contains(@class, \"notranslate\")]')))"
   ]
  },
  {
   "cell_type": "code",
   "execution_count": 78,
   "metadata": {
    "scrolled": true
   },
   "outputs": [
    {
     "data": {
      "text/plain": [
       "['sociallydistantcakes',\n",
       " 'rakesh.rk1',\n",
       " 'sid_zx4',\n",
       " 'around_food_life_',\n",
       " 'sayanbera5',\n",
       " 'sumanakash',\n",
       " 'ue_graphics',\n",
       " 'pranav_narayanan',\n",
       " 'navneet_aujla',\n",
       " 'iam_ankurgupta',\n",
       " 'mohs.inkhan576',\n",
       " 'cutekrishaaagarwal',\n",
       " 'devanshmadhian',\n",
       " 'kshitizd17',\n",
       " 'aryanman_patnaik',\n",
       " 'online_shopping6098',\n",
       " 'spoon2heaven',\n",
       " '__afnan__khan__',\n",
       " 'sonuyadav2546.47',\n",
       " 'batramuskaan',\n",
       " 'yash.setia',\n",
       " 'creator_of_the_world_store',\n",
       " '___black__attitude___',\n",
       " 'sha18wal',\n",
       " 'shotmyworld',\n",
       " 'rchirimar',\n",
       " 'fruits_1627',\n",
       " 'alokpratap_',\n",
       " 'sanaahmad1895',\n",
       " 'arpitupadhyay01',\n",
       " 'sharulhasan313',\n",
       " 'angel___of.darkness',\n",
       " 'insearchofcafes_',\n",
       " 'vashisthashantnu',\n",
       " 'artistichittu',\n",
       " 'akshitgulatii',\n",
       " 'sadakchaap_nautanki',\n",
       " '_dg_pvt',\n",
       " 'divya_khandelwal',\n",
       " 'tastesgood__',\n",
       " 'kitkat_0532',\n",
       " 'nitzz.09',\n",
       " 'vrinda_naraini',\n",
       " 'kanishq_basoya_dellhii0001',\n",
       " 'aniket.raturi.03',\n",
       " 'pubgstreamworld',\n",
       " 'livsnzutare',\n",
       " 'priyanka_issar_',\n",
       " '___sky_walker____',\n",
       " 'all.about.her_0',\n",
       " 'khursidm653',\n",
       " 'quas1m',\n",
       " 'ss0108852',\n",
       " 'dakshitaarora',\n",
       " 'ritika_nahadia_',\n",
       " 'kanchanyadav0612',\n",
       " 'sarabjeet.25',\n",
       " 'akashmalik221295',\n",
       " 'iphone6s_capture',\n",
       " 'kasanavedprakash',\n",
       " 'sureshrathore630',\n",
       " 'sharmarajesh1792',\n",
       " 'neyaz1917',\n",
       " 'nehru9188',\n",
       " 'kaminikhurana84gmail.com_',\n",
       " 'rahulpopli97',\n",
       " 'love_back_guruji_1011',\n",
       " 'vin_eat',\n",
       " '_anjali_bharti',\n",
       " 'abhay_guptaaaa',\n",
       " 'superhitvines9',\n",
       " 'aryankansal1991',\n",
       " 'yaadv.shivraam',\n",
       " 'sakina_turabali',\n",
       " 'triptiiibasoya',\n",
       " 'vrindamittal94',\n",
       " 'mukund_aggarwal',\n",
       " 'vinn.i1006',\n",
       " 'sonachits17',\n",
       " 'benn.y2137',\n",
       " 'amitojsingh089',\n",
       " 'maierabudhiraja',\n",
       " 'jasmeet_singh79',\n",
       " 'pankaj.misra.9231',\n",
       " 'jyotikashyap.jyoti.355',\n",
       " 'jatinkindra_official',\n",
       " 'kaalyaatri',\n",
       " 'saachuaaaachu',\n",
       " 'ella.barkella',\n",
       " 'mingma.bhutia.90663',\n",
       " 'indianfoodcafe',\n",
       " 'manuja.anand',\n",
       " 'simi_sai',\n",
       " 'wallflowerxoxxo',\n",
       " 'vickykhatwani_7',\n",
       " 'siddhant_choudhary',\n",
       " 'mr_bajaj97',\n",
       " 'gauravdhawan_',\n",
       " 'itsarahkhan',\n",
       " 'sarahkhan.bw',\n",
       " 'anchals109',\n",
       " 'rafekhan1',\n",
       " 'maneknagina',\n",
       " 'foodinza',\n",
       " 'tushita2808',\n",
       " 'die_hard_fan_of_australia49',\n",
       " 'sevgi_naqiyeva',\n",
       " 'aashima__bhatia',\n",
       " 'aaravjatin',\n",
       " 'swatiwadhawan1',\n",
       " 'sachdeva.risha',\n",
       " 'butterpaneer._',\n",
       " 'ayushi.guwalani',\n",
       " 'shrutipriya869',\n",
       " 'snow_way_bae',\n",
       " 'deeksha__sehgal',\n",
       " 'ramneek_dua__',\n",
       " 'qutabgard',\n",
       " 'rashidafsha',\n",
       " '_bh_avesh_0610',\n",
       " 'mollytagore',\n",
       " 'divishabedi10',\n",
       " 'wipizzfeed',\n",
       " 'smzaki1947',\n",
       " 'montreal_wale_1',\n",
       " 'rajsaini_5869',\n",
       " 'liyaqatali336',\n",
       " 'radhikaathale',\n",
       " 'gawwrav',\n",
       " 'mansidugar_',\n",
       " 'dev.editography',\n",
       " 'pinky_k_mohan',\n",
       " 'kumedarpal',\n",
       " 'peetheta00',\n",
       " 'kashina_chadha',\n",
       " 'sonia_mohnani',\n",
       " 'memoirs.of.shahjahanabad',\n",
       " 'notabitterbite',\n",
       " 'khushimymiss',\n",
       " '_.apoorva.bhardwaj._',\n",
       " 'sneha1944',\n",
       " 'ezzaz_khan',\n",
       " 'aa.shi812',\n",
       " 'ikra4052',\n",
       " 'wardrob_fashion',\n",
       " 'shivikapoors',\n",
       " '_aaruj_',\n",
       " 'paras_sachdeva_97',\n",
       " 'varun_singh_rautela',\n",
       " 'ummmm_44444',\n",
       " 'hungrybanner',\n",
       " 'louloudia.dentra',\n",
       " 'aadimahrolia1303',\n",
       " 'psychedelic___society',\n",
       " 'prernachitkara',\n",
       " 'sachin03050101',\n",
       " 'khawa_dawa_',\n",
       " 'madmaxbro123',\n",
       " 'zainab_khan30.09',\n",
       " 'anupreet_khalon',\n",
       " 'tippy_tippy_tap',\n",
       " 'singhtanvi0029_',\n",
       " 'kshitij.pixels',\n",
       " 'saleem4362khan',\n",
       " 'desividesicuisine',\n",
       " 'honeyor_kapoor',\n",
       " 'rahulv_93',\n",
       " 'nishakumar_07',\n",
       " 'ajm_indian',\n",
       " 'yourfavourtiequote',\n",
       " 'chawlanancy450',\n",
       " 'asthana2626',\n",
       " 'harshi._18',\n",
       " 'shashank.gupta01',\n",
       " 'cantonesearoma',\n",
       " 'prabhatbisht145',\n",
       " 'barbie.anjali2012',\n",
       " 'amberlamba7',\n",
       " 'myrax_9',\n",
       " 'navyaaxh',\n",
       " 'rohitgupta25_',\n",
       " 'nikitamaheshwarii',\n",
       " 'gunjan_makeup',\n",
       " 'foodably',\n",
       " 'sameeraja_subrahmanyam',\n",
       " 'ivaahacreations',\n",
       " 'ahmadk350',\n",
       " '_ronak._.sharma_',\n",
       " 'heysayan05',\n",
       " 'sadlife19978',\n",
       " 'turpaibysurbhigogia',\n",
       " 'theycallmeaditya',\n",
       " 'buddiesonroad',\n",
       " 'starboy27k',\n",
       " 'priti_suna',\n",
       " '___shashhank___',\n",
       " 'photoblogbynikki',\n",
       " 'mostly_homemade_food',\n",
       " 'aftabsheikh698',\n",
       " 'ramasingh199',\n",
       " 'miss.chauhan18',\n",
       " 'manachyamanatal',\n",
       " 'gahlot_007',\n",
       " 'rajatbhallaofficial',\n",
       " 'rajputmaheshbp',\n",
       " '_himman',\n",
       " 'donate4goodcause',\n",
       " 'p_ink_per_ception',\n",
       " 'anjalijaiswal2707',\n",
       " 'unboxludhiana',\n",
       " 'manoharreddy304',\n",
       " 'rajatjee2020',\n",
       " 'ten_dekyi',\n",
       " 'shivaaybindra99',\n",
       " 'legacyco.india',\n",
       " 'sonurajput97160',\n",
       " 'maheshwarigarima',\n",
       " 'afrin_khan43',\n",
       " 'vishavjeet_kataria',\n",
       " 'karanjawale5357',\n",
       " 'salma_4312',\n",
       " 'sarthaksikka',\n",
       " 'adwiteelima',\n",
       " 'pauldeeptangshu',\n",
       " 'manral_parveen',\n",
       " 'raj__0212',\n",
       " 'headphone_adda',\n",
       " 'aadipathan07aadipathan07',\n",
       " 'risky_miya_',\n",
       " 'khyati.chdhry27',\n",
       " 'a_food_love_story5',\n",
       " 'harshprabha06',\n",
       " 'aeshna_jain02',\n",
       " 'punit_trehan',\n",
       " 'amaanprit',\n",
       " 'arnikagoyal',\n",
       " 'sterlingwingsdmcc',\n",
       " 'nanaksingh.nanak.3532',\n",
       " 'abhiinavgupta',\n",
       " 'beautybanterbyharleen',\n",
       " 'its_anas_choudhury',\n",
       " 'the.happy_foodie',\n",
       " 'hungry_young_woman',\n",
       " 'sparsh_pvt33',\n",
       " 'gautam_tanwar_',\n",
       " 'raju3872kumar',\n",
       " 'irahul_goel',\n",
       " 'keshav.mewade',\n",
       " 'the_scrap_search',\n",
       " '__rusd__',\n",
       " 'rishabhsharma9873',\n",
       " 'ankur_bhadana_',\n",
       " 'eye_catchingstore',\n",
       " 'ankit.rajput.1144',\n",
       " 'v.charu95',\n",
       " 'theheartandcraft_studio',\n",
       " 'modellingproduction',\n",
       " 'hiral_khanna',\n",
       " 'fi_rdaus99',\n",
       " 'kumarrohitkr',\n",
       " 'ridingcycleon',\n",
       " 'only_villains_thinks',\n",
       " 'ritirajawat86',\n",
       " 'paarthjhingan',\n",
       " 'ravi_thakur6158',\n",
       " 'golu8022',\n",
       " '0601neha',\n",
       " 'gaurav.vivotels',\n",
       " 'anus_hka8040',\n",
       " '___chief_25',\n",
       " 'protima9881',\n",
       " 'arnab_as_anshu',\n",
       " 'tanyakushwah_',\n",
       " 'pooojaa57',\n",
       " 'kamlesh3511',\n",
       " 'meenuarora021',\n",
       " 'umdah_rasoi',\n",
       " 'ipsa_09',\n",
       " 'princess_yashi_balchandani',\n",
       " 'shweta_0795',\n",
       " 'maryamaqil_',\n",
       " 'happydork12',\n",
       " 'kim1.malhotra',\n",
       " 'pahadanbanjaran',\n",
       " 'himanshu_maan1',\n",
       " 'nishi_chandra',\n",
       " 'jyotsna__p',\n",
       " 'tanyakaurr_',\n",
       " '_adityaa24_',\n",
       " 'bawapreety',\n",
       " 'saluja_mansi',\n",
       " 'irishabh003',\n",
       " 'imvins',\n",
       " 'guptarahul009',\n",
       " 'ankit.virdi',\n",
       " 'abhinavjha48',\n",
       " 'heavens_cafebakery',\n",
       " 'jmauliik',\n",
       " 'chillpixie16',\n",
       " 'sakshambharija',\n",
       " 'priyanshi_verma_24',\n",
       " 'jenfanucci',\n",
       " 'inquisitivecubs',\n",
       " 'greedygastronaut',\n",
       " 'saptakpandya786',\n",
       " 'himanshuuofficial',\n",
       " 'shashi_bhatia',\n",
       " 'srishtiii__',\n",
       " 'jyotisingh3425',\n",
       " 'himani_manral22',\n",
       " 'm.sraj871',\n",
       " 'abiwesternwear',\n",
       " 'saloniibhatia',\n",
       " 'dil.bahar.792197',\n",
       " 'iamadityabakshi_',\n",
       " 'shubham__sm',\n",
       " 'm.ashfaq05',\n",
       " 'chawla_isha',\n",
       " 'kkaranyadavv',\n",
       " 's_ashminder.8687',\n",
       " 'smarty_.rk',\n",
       " 'vip__yadav01',\n",
       " 'kakumar3146',\n",
       " 'iliesha_11',\n",
       " 'celestialbadass',\n",
       " 'zombieedge574',\n",
       " 'trishakakkar',\n",
       " 'starcrazyravi',\n",
       " 'vel.vadivel.75248',\n",
       " 'thefoodpalette_',\n",
       " 'miss_perfect0808',\n",
       " 'sanjubaba6822',\n",
       " 'monu.prakash.562',\n",
       " 'b.vishnuvardhan.5055',\n",
       " 'akshay.sharma05',\n",
       " 'shivagaitonde',\n",
       " 'naimullahmikrani',\n",
       " 'beverleydouglastvf',\n",
       " 'kabhi_.kabhi_aditi_',\n",
       " 'mudit9agarwal',\n",
       " 'akmr257',\n",
       " '_monica_deopa',\n",
       " 'thepositive.project',\n",
       " 'shreya.shh',\n",
       " 'fashionbrandhubs',\n",
       " 'vibhuti_1999',\n",
       " 'ishaa.x___',\n",
       " 'jaipuriya_kolhapuri',\n",
       " 'yashveer4551',\n",
       " 'pdk2109',\n",
       " 'heycallmepooh',\n",
       " 'delhideets',\n",
       " 'shaddu2396',\n",
       " 'iqra_not_raazi',\n",
       " 'sunitarbhardwaj',\n",
       " 'jaiswal3742',\n",
       " '_rajat.jaiswal_',\n",
       " 'rishabh.jgtrm',\n",
       " 'francelina17',\n",
       " 'ayaanig',\n",
       " 'siddiquibhai5',\n",
       " 'maverick_gary',\n",
       " 'pragya_banker',\n",
       " 'ankitacraftgallore',\n",
       " 'dreamalarm',\n",
       " 'durgesh.pandey__',\n",
       " 'lunatic__05',\n",
       " 'priyankaa253',\n",
       " 'aaru.sharma_001',\n",
       " 'riyamatta98',\n",
       " 'sajot_batra',\n",
       " 'samiya.qidwai',\n",
       " 'rishi_rahul_',\n",
       " 'kanupriya_tyagi',\n",
       " 'mannu__24',\n",
       " 'saksham__bhatt',\n",
       " 'rambo26_',\n",
       " 'sitar_queen',\n",
       " 'sonali__biswas',\n",
       " 't.sethi111',\n",
       " 'sakshamsethi10',\n",
       " 'pallavisingh6206',\n",
       " 'pjclicks_photography',\n",
       " 'mr_dustbin_',\n",
       " 'modish_demeanor_by_preet',\n",
       " 'smarthbansal',\n",
       " 'rapperskay',\n",
       " 'suntscutes',\n",
       " 'er.aqib',\n",
       " 'letsmakecookingeasier',\n",
       " 'anchaldhawan27',\n",
       " 'bhavnasapra',\n",
       " 'sahilsimgh9536',\n",
       " 'sakuna268_____',\n",
       " 'lekhikaaaaaa',\n",
       " 'mehakk.madaan',\n",
       " 'raihaaan_____',\n",
       " 'ekta_gelani',\n",
       " 'mzaink7',\n",
       " 'lokeshofficiel',\n",
       " 'itsvivek.singh',\n",
       " 'blabberthoughts____',\n",
       " 'powersaw4',\n",
       " '__.khalil.___',\n",
       " 'aakash_sorout18d',\n",
       " 'purvadhuri1',\n",
       " 'pallavibora6',\n",
       " 'spicytrendindnews',\n",
       " 'dipsqin_bathandbody',\n",
       " 'rajeevrastogi21',\n",
       " 'aayan_rai___',\n",
       " 'anjudeswal2',\n",
       " 'veeraveera1877',\n",
       " 'kriti_._chaudhary_',\n",
       " 'atu_lita.aa',\n",
       " 'dream_out___loud',\n",
       " 'pixi.e95',\n",
       " '_divyatrivedi',\n",
       " 'esther14__',\n",
       " 'b.patrasky',\n",
       " 'saahilmunjal',\n",
       " 'itsknowledgeadda',\n",
       " '2417_krishna',\n",
       " 'sid.doon',\n",
       " 'aeshwarya_nayak',\n",
       " 'engineers.squad',\n",
       " 'vedaddyant',\n",
       " 'khannachitvan',\n",
       " 'nayarjigyasa',\n",
       " 'beginners_kitchen_by_divya',\n",
       " 'jay.singh17',\n",
       " 'nishulukkad',\n",
       " 'shivanii_tanejaa',\n",
       " 'ruh022',\n",
       " 'khush.raho.bas',\n",
       " 'kumar_anubhavv',\n",
       " 'sara___lamha',\n",
       " 'gujral11',\n",
       " 'agirldoesitall',\n",
       " 'varunesh_19',\n",
       " '_sheena.bhatia_',\n",
       " '_shehzan_ansari7',\n",
       " 'fressconaturesgarden',\n",
       " 'aastha000',\n",
       " '__glitzand__glam__',\n",
       " 'jhattu.gurwinder',\n",
       " 'vinitajain729',\n",
       " 'sh_vipin',\n",
       " 'shanti.hi.sannata',\n",
       " 'vijay49534',\n",
       " 'diksha_toxic',\n",
       " 'aaya.n2704',\n",
       " 'krati_0206',\n",
       " 'saniyamakhija',\n",
       " 'robinnegii',\n",
       " 'swatisharma0511',\n",
       " 'kriti.srivastava1',\n",
       " 'parasabbey',\n",
       " 'shantanu_kandhari',\n",
       " 'abhitiger11',\n",
       " 'kapur.shah',\n",
       " 'arpitchugh3',\n",
       " 'anshibunshi',\n",
       " 'm0hd_yasln',\n",
       " 'stuckinthewind',\n",
       " 'rishabhverma31',\n",
       " 'i_am_shenoy94',\n",
       " 'srajan.bhatnagar',\n",
       " 'migmuk',\n",
       " 'rajeshkashyap8223',\n",
       " 'shuklapretty',\n",
       " 'messi_vii',\n",
       " 'iam_sam76',\n",
       " '10_sohaib',\n",
       " 'gajananyewle',\n",
       " 'hara_k_sahara_baba_shyam_',\n",
       " 'sharmasunny0007',\n",
       " 'gandenukyab',\n",
       " 'bhagyashree_107',\n",
       " 'thesmilekeeper08',\n",
       " 'kpriyanka560',\n",
       " 'greenananya',\n",
       " 'franciscp.kolkata',\n",
       " 'iam_rajaji',\n",
       " 'rajputana_sahil_00',\n",
       " 'anny_person',\n",
       " '__aakriti___',\n",
       " 'mindfluctuates',\n",
       " 'i.r.i.s_p.h.o.t.o.g.r.a.p.h.y',\n",
       " 'shipra.sharma',\n",
       " 'anshhgautamm',\n",
       " 'hmmm_k_bye',\n",
       " '1rohithnair',\n",
       " 'shreyak_1211',\n",
       " 'kyyaaa7',\n",
       " 'tanvisharma609',\n",
       " 'blinkandblush.am',\n",
       " 'nidhigupta_520',\n",
       " 'mohdshahid6536',\n",
       " 'shiv.khari']"
      ]
     },
     "execution_count": 78,
     "metadata": {},
     "output_type": "execute_result"
    }
   ],
   "source": [
    "while True:\n",
    "    try:\n",
    "        sodelhi=[]\n",
    "        count=0\n",
    "        while True:\n",
    "            elements=driver.find_elements_by_xpath('//a[contains(@class, \"notranslate\")]')\n",
    "            if len(elements)<500:\n",
    "                waiter=WebDriverWait(driver, 10).until(EC.presence_of_element_located((By.XPATH, '//ul[contains(@class, \"jSC57\")]')))\n",
    "                driver.execute_script('arguments[0].scrollIntoView(0, 100);', driver.find_element_by_xpath('//ul[contains(@class, \"jSC57\")]'))\n",
    "                time.sleep(0.8)\n",
    "            i=elements[count]\n",
    "            sodelhi.append(i.get_attribute('innerHTML'))\n",
    "            if len(sodelhi)>=500:\n",
    "                break\n",
    "            count+=1\n",
    "        break\n",
    "    except StaleElementReferenceException:\n",
    "        continue\n",
    "sodelhi\n"
   ]
  },
  {
   "cell_type": "code",
   "execution_count": 79,
   "metadata": {},
   "outputs": [],
   "source": [
    "driver.back()\n",
    "waiter=WebDriverWait(driver, 10).until(EC.presence_of_element_located((By.CLASS_NAME, \"TqC_a\")))"
   ]
  },
  {
   "cell_type": "markdown",
   "metadata": {},
   "source": [
    "<h2>Extracting the usernames of the first 500 followers of 'foodtalkindia' :</h2>"
   ]
  },
  {
   "cell_type": "code",
   "execution_count": 80,
   "metadata": {},
   "outputs": [],
   "source": [
    "driver.find_element_by_class_name('TqC_a').click()\n",
    "\n",
    "search_box=driver.find_element_by_class_name('XTCLo')\n",
    "search_box.send_keys('foodtalkindia')\n",
    "waiter=WebDriverWait(driver, 10).until(EC.presence_of_element_located((By.CLASS_NAME, \"yCE8d\")))"
   ]
  },
  {
   "cell_type": "code",
   "execution_count": 81,
   "metadata": {},
   "outputs": [],
   "source": [
    "driver.find_element_by_class_name('yCE8d').click()\n",
    "waiter=WebDriverWait(driver, 10).until(EC.element_to_be_clickable((By.XPATH, '//a[@class=\"-nal3 \"]/span[@class=\"g47SY \"]')))\n",
    "time.sleep(2)"
   ]
  },
  {
   "cell_type": "code",
   "execution_count": 82,
   "metadata": {},
   "outputs": [],
   "source": [
    "driver.find_element_by_xpath('//a[@class=\"-nal3 \"]/span[@class=\"g47SY \"]').click()\n",
    "waiter=WebDriverWait(driver, 10).until(EC.presence_of_element_located((By.XPATH, '//a[contains(@class, \"notranslate\")]')))"
   ]
  },
  {
   "cell_type": "code",
   "execution_count": 83,
   "metadata": {},
   "outputs": [
    {
     "ename": "TimeoutException",
     "evalue": "Message: \n",
     "output_type": "error",
     "traceback": [
      "\u001b[0;31m---------------------------------------------------------------------------\u001b[0m",
      "\u001b[0;31mTimeoutException\u001b[0m                          Traceback (most recent call last)",
      "\u001b[0;32m<ipython-input-83-bab9061196cd>\u001b[0m in \u001b[0;36m<module>\u001b[0;34m\u001b[0m\n\u001b[1;32m     17\u001b[0m     \u001b[0;32mexcept\u001b[0m \u001b[0mStaleElementReferenceException\u001b[0m\u001b[0;34m:\u001b[0m\u001b[0;34m\u001b[0m\u001b[0;34m\u001b[0m\u001b[0m\n\u001b[1;32m     18\u001b[0m         \u001b[0;32mcontinue\u001b[0m\u001b[0;34m\u001b[0m\u001b[0;34m\u001b[0m\u001b[0m\n\u001b[0;32m---> 19\u001b[0;31m \u001b[0mwaiter\u001b[0m\u001b[0;34m=\u001b[0m\u001b[0mWebDriverWait\u001b[0m\u001b[0;34m(\u001b[0m\u001b[0mdriver\u001b[0m\u001b[0;34m,\u001b[0m \u001b[0;36m10\u001b[0m\u001b[0;34m)\u001b[0m\u001b[0;34m.\u001b[0m\u001b[0muntil\u001b[0m\u001b[0;34m(\u001b[0m\u001b[0mEC\u001b[0m\u001b[0;34m.\u001b[0m\u001b[0mpresence_of_element_located\u001b[0m\u001b[0;34m(\u001b[0m\u001b[0;34m(\u001b[0m\u001b[0mBy\u001b[0m\u001b[0;34m.\u001b[0m\u001b[0mCLASS_NAME\u001b[0m\u001b[0;34m,\u001b[0m \u001b[0;34m\"glyphsSpriteX__outline__24__grey_9\"\u001b[0m\u001b[0;34m)\u001b[0m\u001b[0;34m)\u001b[0m\u001b[0;34m)\u001b[0m\u001b[0;34m\u001b[0m\u001b[0;34m\u001b[0m\u001b[0m\n\u001b[0m\u001b[1;32m     20\u001b[0m \u001b[0mfoodtalkindia\u001b[0m\u001b[0;34m\u001b[0m\u001b[0;34m\u001b[0m\u001b[0m\n",
      "\u001b[0;32m/opt/anaconda3/lib/python3.7/site-packages/selenium/webdriver/support/wait.py\u001b[0m in \u001b[0;36muntil\u001b[0;34m(self, method, message)\u001b[0m\n\u001b[1;32m     78\u001b[0m             \u001b[0;32mif\u001b[0m \u001b[0mtime\u001b[0m\u001b[0;34m.\u001b[0m\u001b[0mtime\u001b[0m\u001b[0;34m(\u001b[0m\u001b[0;34m)\u001b[0m \u001b[0;34m>\u001b[0m \u001b[0mend_time\u001b[0m\u001b[0;34m:\u001b[0m\u001b[0;34m\u001b[0m\u001b[0;34m\u001b[0m\u001b[0m\n\u001b[1;32m     79\u001b[0m                 \u001b[0;32mbreak\u001b[0m\u001b[0;34m\u001b[0m\u001b[0;34m\u001b[0m\u001b[0m\n\u001b[0;32m---> 80\u001b[0;31m         \u001b[0;32mraise\u001b[0m \u001b[0mTimeoutException\u001b[0m\u001b[0;34m(\u001b[0m\u001b[0mmessage\u001b[0m\u001b[0;34m,\u001b[0m \u001b[0mscreen\u001b[0m\u001b[0;34m,\u001b[0m \u001b[0mstacktrace\u001b[0m\u001b[0;34m)\u001b[0m\u001b[0;34m\u001b[0m\u001b[0;34m\u001b[0m\u001b[0m\n\u001b[0m\u001b[1;32m     81\u001b[0m \u001b[0;34m\u001b[0m\u001b[0m\n\u001b[1;32m     82\u001b[0m     \u001b[0;32mdef\u001b[0m \u001b[0muntil_not\u001b[0m\u001b[0;34m(\u001b[0m\u001b[0mself\u001b[0m\u001b[0;34m,\u001b[0m \u001b[0mmethod\u001b[0m\u001b[0;34m,\u001b[0m \u001b[0mmessage\u001b[0m\u001b[0;34m=\u001b[0m\u001b[0;34m''\u001b[0m\u001b[0;34m)\u001b[0m\u001b[0;34m:\u001b[0m\u001b[0;34m\u001b[0m\u001b[0;34m\u001b[0m\u001b[0m\n",
      "\u001b[0;31mTimeoutException\u001b[0m: Message: \n"
     ]
    }
   ],
   "source": [
    "while True:\n",
    "    try:\n",
    "        foodtalkindia=[]\n",
    "        count=0\n",
    "        while True:\n",
    "            elements=driver.find_elements_by_xpath('//a[contains(@class, \"notranslate\")]')\n",
    "            if len(elements)<500:\n",
    "                waiter=WebDriverWait(driver, 10).until(EC.presence_of_element_located((By.XPATH, '//ul[contains(@class, \"jSC57\")]')))\n",
    "                driver.execute_script('arguments[0].scrollIntoView(0, 100);', driver.find_element_by_xpath('//ul[contains(@class, \"jSC57\")]'))\n",
    "                time.sleep(0.8)\n",
    "            i=elements[count]\n",
    "            foodtalkindia.append(i.get_attribute('innerHTML'))\n",
    "            if len(foodtalkindia)>=500:\n",
    "                break\n",
    "            count+=1\n",
    "        break\n",
    "    except StaleElementReferenceException:\n",
    "        continue\n",
    "waiter=WebDriverWait(driver, 10).until(EC.presence_of_element_located((By.CLASS_NAME, \"glyphsSpriteX__outline__24__grey_9\")))\n",
    "foodtalkindia"
   ]
  },
  {
   "cell_type": "markdown",
   "metadata": {},
   "source": [
    "<h2>Printing all the followers of \"foodtalkindia\" that user is following but those who don't follow the user:</h2>\n",
    "<br>I did this by extracting and saving a list of all the user's followers(myfollowers) and those who are followed by the user(following). and getting the answer by using \"(followers_of_foodtalkindia_that_user_is_following)-(user's_followers)\""
   ]
  },
  {
   "cell_type": "code",
   "execution_count": null,
   "metadata": {},
   "outputs": [],
   "source": [
    "driver.back()\n",
    "waiter=WebDriverWait(driver, 10).until(EC.presence_of_element_located((By.CLASS_NAME, \"glyphsSpriteUser__outline__24__grey_9\")))\n",
    "time.sleep(3)"
   ]
  },
  {
   "cell_type": "code",
   "execution_count": null,
   "metadata": {},
   "outputs": [],
   "source": [
    "driver.back()\n",
    "waiter=WebDriverWait(driver, 10).until(EC.presence_of_element_located((By.XPATH, '//a[@class=\"-nal3 \"]/span')))\n",
    "time.sleep(3)"
   ]
  },
  {
   "cell_type": "code",
   "execution_count": null,
   "metadata": {},
   "outputs": [],
   "source": [
    "total_followers=int(driver.find_element_by_xpath('//a[@class=\"-nal3 \"]/span[@class=\"g47SY \"]').get_attribute('innerHTML'))\n",
    "driver.find_element_by_xpath('//a[@class=\"-nal3 \"]/span[@class=\"g47SY \"]').click()\n",
    "waiter=WebDriverWait(driver, 10).until(EC.presence_of_element_located((By.XPATH, '//a[contains(@class, \"notranslate\")]')))"
   ]
  },
  {
   "cell_type": "code",
   "execution_count": null,
   "metadata": {
    "scrolled": true
   },
   "outputs": [],
   "source": [
    "while True:\n",
    "    try:\n",
    "        myfollowers=[]\n",
    "        count=0\n",
    "        while True:\n",
    "            elements=driver.find_elements_by_xpath('//a[contains(@class, \"notranslate\")]')\n",
    "            if len(elements)<total_followers:\n",
    "                waiter=WebDriverWait(driver, 10).until(EC.presence_of_element_located((By.XPATH, '//ul[contains(@class, \"jSC57\")]')))\n",
    "                driver.execute_script('arguments[0].scrollIntoView(0, 100);', driver.find_element_by_xpath('//ul[contains(@class, \"jSC57\")]'))\n",
    "                time.sleep(0.8)\n",
    "            i=elements[count]\n",
    "            myfollowers.append(i.get_attribute('innerHTML'))\n",
    "            if len(myfollowers)==total_followers:\n",
    "                break\n",
    "            count+=1\n",
    "        break\n",
    "    except StaleElementReferenceException:\n",
    "        continue\n",
    "waiter=WebDriverWait(driver, 10).until(EC.presence_of_element_located((By.CLASS_NAME, 'glyphsSpriteX__outline__24__grey_9')))"
   ]
  },
  {
   "cell_type": "code",
   "execution_count": null,
   "metadata": {},
   "outputs": [],
   "source": [
    "driver.find_element_by_class_name('glyphsSpriteX__outline__24__grey_9').click()\n",
    "waiter=WebDriverWait(driver, 10).until(EC.presence_of_element_located((By.XPATH, '//a[@class=\"-nal3 \"]/span')))"
   ]
  },
  {
   "cell_type": "code",
   "execution_count": null,
   "metadata": {},
   "outputs": [],
   "source": [
    "total_following=int(driver.find_elements_by_xpath('//a[@class=\"-nal3 \"]/span')[1].get_attribute('innerHTML'))\n",
    "driver.find_elements_by_xpath('//a[@class=\"-nal3 \"]/span[@class=\"g47SY \"]')[1].click()\n",
    "waiter=WebDriverWait(driver, 10).until(EC.presence_of_element_located((By.XPATH, '//a[contains(@class, \"notranslate\")]')))"
   ]
  },
  {
   "cell_type": "code",
   "execution_count": null,
   "metadata": {},
   "outputs": [],
   "source": [
    "while True:\n",
    "    try:\n",
    "        following=[]\n",
    "        count=0\n",
    "        while True:\n",
    "            elements=driver.find_elements_by_xpath('//a[contains(@class, \"notranslate\")]')\n",
    "            if len(elements)<total_following:\n",
    "                waiter=WebDriverWait(driver, 10).until(EC.presence_of_element_located((By.XPATH, '//ul[contains(@class, \"jSC57\")]')))\n",
    "                driver.execute_script('arguments[0].scrollIntoView(0, 100);', driver.find_element_by_xpath('//ul[contains(@class, \"jSC57\")]'))\n",
    "                time.sleep(0.8)\n",
    "            i=elements[count]\n",
    "            following.append(i.get_attribute('innerHTML'))\n",
    "            if len(following)==total_following:\n",
    "                break\n",
    "            count+=1\n",
    "        break\n",
    "    except StaleElementReferenceException:\n",
    "        continue"
   ]
  },
  {
   "cell_type": "code",
   "execution_count": null,
   "metadata": {},
   "outputs": [],
   "source": [
    "following=set(following)\n",
    "myfollowers=set(myfollowers)\n",
    "foodtalkindia=set(foodtalkindia)\n",
    "followers_of_foodtalkindia_that_i_am_following= following.intersection(foodtalkindia)\n",
    "print('Given below is a set of all the followers of “foodtalkindia” that I am following but those who don’t follow me.')\n",
    "if len(followers_of_foodtalkindia_that_i_am_following-myfollowers)==0:\n",
    "    print(\"--->No such followers\")\n",
    "for i in followers_of_foodtalkindia_that_i_am_following-myfollowers:\n",
    "    print(i)\n",
    "waiter=WebDriverWait(driver, 10).until(EC.presence_of_element_located((By.CLASS_NAME, \"glyphsSpriteX__outline__24__grey_9\")))"
   ]
  },
  {
   "cell_type": "markdown",
   "metadata": {},
   "source": [
    "<h2>Visiting Coding Ninjas and checking their story with given conditions:</h2>"
   ]
  },
  {
   "cell_type": "code",
   "execution_count": null,
   "metadata": {},
   "outputs": [],
   "source": [
    "driver.find_element_by_class_name('glyphsSpriteX__outline__24__grey_9').click()\n",
    "waiter=WebDriverWait(driver, 10).until(EC.presence_of_element_located((By.CLASS_NAME, \"TqC_a\")))"
   ]
  },
  {
   "cell_type": "code",
   "execution_count": null,
   "metadata": {},
   "outputs": [],
   "source": [
    "driver.find_element_by_class_name('TqC_a').click()\n",
    "\n",
    "search_box=driver.find_element_by_class_name('XTCLo')\n",
    "search_box.send_keys('coding.ninjas')\n",
    "waiter=WebDriverWait(driver, 10).until(EC.presence_of_element_located((By.CLASS_NAME, \"yCE8d\")))"
   ]
  },
  {
   "cell_type": "code",
   "execution_count": null,
   "metadata": {},
   "outputs": [],
   "source": [
    "driver.find_element_by_class_name('yCE8d').click()\n",
    "time.sleep(3)"
   ]
  },
  {
   "cell_type": "code",
   "execution_count": null,
   "metadata": {},
   "outputs": [],
   "source": [
    "try:\n",
    "    if int(driver.find_element_by_xpath('//div[contains(@class, \"h5uC0\")]/canvas').get_attribute('height'))==168:\n",
    "        print('You have not seen the story yet! The story will be shown to you now. check out the driver window')\n",
    "        driver.find_element_by_xpath('//div[contains(@class, \"h5uC0\")]').click()\n",
    "    elif int(driver.find_element_by_xpath('//div[contains(@class, \"h5uC0\")]/canvas').get_attribute('height'))==166:\n",
    "        print('You have already seen the story!')\n",
    "except NoSuchElementException:\n",
    "    print('The user has no story!')"
   ]
  }
 ],
 "metadata": {
  "kernelspec": {
   "display_name": "Python 3",
   "language": "python",
   "name": "python3"
  },
  "language_info": {
   "codemirror_mode": {
    "name": "ipython",
    "version": 3
   },
   "file_extension": ".py",
   "mimetype": "text/x-python",
   "name": "python",
   "nbconvert_exporter": "python",
   "pygments_lexer": "ipython3",
   "version": "3.7.6"
  }
 },
 "nbformat": 4,
 "nbformat_minor": 2
}
